{
 "cells": [
  {
   "cell_type": "code",
   "execution_count": 24,
   "id": "ca182aaf",
   "metadata": {},
   "outputs": [
    {
     "name": "stdout",
     "output_type": "stream",
     "text": [
      "15\n"
     ]
    }
   ],
   "source": [
    "import re\n",
    "\n",
    "s = re.search(r'\\d{2}:\\d{2}:\\d{2}', '2022-04-21 15:00:00').group()\n",
    "print(s.split(':')[0])"
   ]
  },
  {
   "cell_type": "code",
   "execution_count": 26,
   "id": "2379348b",
   "metadata": {},
   "outputs": [
    {
     "name": "stdout",
     "output_type": "stream",
     "text": [
      "77 435 11 73\n"
     ]
    }
   ],
   "source": [
    "import re\n",
    "\n",
    "contact = 'my phone number is 77 435 11 73'\n",
    "\n",
    "phone_number = re.search(r'\\d{2} \\d{3} \\d{2} \\d{2}', contact).group()\n",
    "\n",
    "print(phone_number)"
   ]
  },
  {
   "cell_type": "code",
   "execution_count": 54,
   "id": "c55303bb",
   "metadata": {},
   "outputs": [],
   "source": [
    "def mafe():\n",
    "    nums = [87, 71, 58]\n",
    "    max_range = max(nums) - min(nums)\n",
    "    print(f'max range is {max_range}')\n",
    "    if max_ranges := max(nums) - min(nums) > 20:\n",
    "        print(f'mafe soupe kandia domoda, tiep bou honk. {max_ranges}')"
   ]
  },
  {
   "cell_type": "code",
   "execution_count": 65,
   "id": "cfb0df94",
   "metadata": {},
   "outputs": [
    {
     "ename": "UnboundLocalError",
     "evalue": "local variable 'max_range' referenced before assignment",
     "output_type": "error",
     "traceback": [
      "\u001b[0;31m---------------------------------------------------------------------------\u001b[0m",
      "\u001b[0;31mUnboundLocalError\u001b[0m                         Traceback (most recent call last)",
      "\u001b[0;32m/var/folders/j0/57_6fgfs45x9s41lkh5hy20c0000gn/T/ipykernel_35828/1674788590.py\u001b[0m in \u001b[0;36m<module>\u001b[0;34m\u001b[0m\n\u001b[0;32m----> 1\u001b[0;31m \u001b[0mmafe\u001b[0m\u001b[0;34m(\u001b[0m\u001b[0;34m)\u001b[0m\u001b[0;34m\u001b[0m\u001b[0;34m\u001b[0m\u001b[0m\n\u001b[0m",
      "\u001b[0;32m/var/folders/j0/57_6fgfs45x9s41lkh5hy20c0000gn/T/ipykernel_35828/2413050953.py\u001b[0m in \u001b[0;36mmafe\u001b[0;34m()\u001b[0m\n\u001b[1;32m      2\u001b[0m     \u001b[0mnums\u001b[0m \u001b[0;34m=\u001b[0m \u001b[0;34m[\u001b[0m\u001b[0;36m87\u001b[0m\u001b[0;34m,\u001b[0m \u001b[0;36m71\u001b[0m\u001b[0;34m,\u001b[0m \u001b[0;36m58\u001b[0m\u001b[0;34m]\u001b[0m\u001b[0;34m\u001b[0m\u001b[0;34m\u001b[0m\u001b[0m\n\u001b[1;32m      3\u001b[0m \u001b[0;31m#     max_range = max(nums) - min(nums)\u001b[0m\u001b[0;34m\u001b[0m\u001b[0;34m\u001b[0m\u001b[0m\n\u001b[0;32m----> 4\u001b[0;31m     \u001b[0mprint\u001b[0m\u001b[0;34m(\u001b[0m\u001b[0;34mf'max range is {max_range}'\u001b[0m\u001b[0;34m)\u001b[0m\u001b[0;34m\u001b[0m\u001b[0;34m\u001b[0m\u001b[0m\n\u001b[0m\u001b[1;32m      5\u001b[0m     \u001b[0;32mif\u001b[0m \u001b[0;34m(\u001b[0m\u001b[0mmax_range\u001b[0m \u001b[0;34m:=\u001b[0m \u001b[0mmax\u001b[0m\u001b[0;34m(\u001b[0m\u001b[0mnums\u001b[0m\u001b[0;34m)\u001b[0m \u001b[0;34m-\u001b[0m \u001b[0mmin\u001b[0m\u001b[0;34m(\u001b[0m\u001b[0mnums\u001b[0m\u001b[0;34m)\u001b[0m\u001b[0;34m)\u001b[0m \u001b[0;34m>\u001b[0m \u001b[0;36m20\u001b[0m\u001b[0;34m:\u001b[0m\u001b[0;34m\u001b[0m\u001b[0;34m\u001b[0m\u001b[0m\n\u001b[1;32m      6\u001b[0m         \u001b[0mprint\u001b[0m\u001b[0;34m(\u001b[0m\u001b[0;34mf'mafe soupe kandia domoda, tiep bou honk. {max_range}'\u001b[0m\u001b[0;34m)\u001b[0m\u001b[0;34m\u001b[0m\u001b[0;34m\u001b[0m\u001b[0m\n",
      "\u001b[0;31mUnboundLocalError\u001b[0m: local variable 'max_range' referenced before assignment"
     ]
    }
   ],
   "source": [
    "mafe()"
   ]
  },
  {
   "cell_type": "code",
   "execution_count": 59,
   "id": "3b626889",
   "metadata": {},
   "outputs": [
    {
     "name": "stdout",
     "output_type": "stream",
     "text": [
      "La proportion de GC est 0.478\n"
     ]
    }
   ],
   "source": [
    "prop_GC = (4500 + 2575) / 14800\n",
    "print(f\"La proportion de GC est {prop_GC:.3f}\")"
   ]
  },
  {
   "cell_type": "code",
   "execution_count": 42,
   "id": "c9b21eab",
   "metadata": {},
   "outputs": [],
   "source": [
    "from functools import lru_cache\n",
    "\n",
    "@lru_cache\n",
    "def cached_fib(n):\n",
    "    if n < 2:\n",
    "        return n\n",
    "    return cached_fib(n - 1) + cached_fib(n - 2)"
   ]
  },
  {
   "cell_type": "code",
   "execution_count": 62,
   "id": "de34a41f",
   "metadata": {},
   "outputs": [
    {
     "data": {
      "text/plain": [
       "89"
      ]
     },
     "execution_count": 62,
     "metadata": {},
     "output_type": "execute_result"
    }
   ],
   "source": [
    "cached_fib(11)"
   ]
  },
  {
   "cell_type": "code",
   "execution_count": 66,
   "id": "25fb1e61",
   "metadata": {},
   "outputs": [],
   "source": [
    "def tiep():\n",
    "    nums = [87, 71, 58]\n",
    "#     max_range = max(nums) - min(nums)\n",
    "#     print(f'max range is {max_range}')\n",
    "    if (max_range := max(nums) - min(nums)) > 20:\n",
    "        print(f'mafe soupe kandia domoda, tiep bou honk. {max_range}')"
   ]
  },
  {
   "cell_type": "code",
   "execution_count": 69,
   "id": "c2f4d228",
   "metadata": {},
   "outputs": [
    {
     "name": "stdout",
     "output_type": "stream",
     "text": [
      "max range is 29\n",
      "mafe soupe kandia domoda, tiep bou honk. True\n"
     ]
    }
   ],
   "source": [
    "tiep()"
   ]
  },
  {
   "cell_type": "code",
   "execution_count": 75,
   "id": "b2ffadfc",
   "metadata": {},
   "outputs": [
    {
     "name": "stdout",
     "output_type": "stream",
     "text": [
      "the result is 4999\n"
     ]
    }
   ],
   "source": [
    "# my_list = range(2, 10000)\n",
    "\n",
    "result = len(range(2, 10000)[::2])\n",
    "print(f'the result is {result}')"
   ]
  },
  {
   "cell_type": "code",
   "execution_count": 82,
   "id": "b85bf5cb",
   "metadata": {},
   "outputs": [
    {
     "name": "stdout",
     "output_type": "stream",
     "text": [
      "even array: [0, 2, 4, 6, 8, 10, 12, 14, 16, 18, 20]\n"
     ]
    }
   ],
   "source": [
    "odd_array = [1, 3, 5, 7, 9, 11, 13, 15, 17, 19, 21]\n",
    "even_array = [x - 1 for x in odd_array]\n",
    "\n",
    "\n",
    "print(f'even array: {even_array}')\n",
    "    "
   ]
  },
  {
   "cell_type": "code",
   "execution_count": 87,
   "id": "b536536d",
   "metadata": {},
   "outputs": [
    {
     "ename": "AttributeError",
     "evalue": "'tuple' object has no attribute 'pop'",
     "output_type": "error",
     "traceback": [
      "\u001b[0;31m---------------------------------------------------------------------------\u001b[0m",
      "\u001b[0;31mAttributeError\u001b[0m                            Traceback (most recent call last)",
      "\u001b[0;32m/var/folders/j0/57_6fgfs45x9s41lkh5hy20c0000gn/T/ipykernel_35828/2261076709.py\u001b[0m in \u001b[0;36m<module>\u001b[0;34m\u001b[0m\n\u001b[1;32m      1\u001b[0m \u001b[0my\u001b[0m \u001b[0;34m=\u001b[0m \u001b[0;34m(\u001b[0m\u001b[0;36m1\u001b[0m\u001b[0;34m,\u001b[0m \u001b[0;36m2\u001b[0m\u001b[0;34m,\u001b[0m \u001b[0;36m3\u001b[0m\u001b[0;34m,\u001b[0m \u001b[0;36m4\u001b[0m\u001b[0;34m)\u001b[0m\u001b[0;34m\u001b[0m\u001b[0;34m\u001b[0m\u001b[0m\n\u001b[0;32m----> 2\u001b[0;31m \u001b[0mx\u001b[0m \u001b[0;34m=\u001b[0m \u001b[0my\u001b[0m\u001b[0;34m.\u001b[0m\u001b[0mpop\u001b[0m\u001b[0;34m(\u001b[0m\u001b[0;34m)\u001b[0m\u001b[0;34m\u001b[0m\u001b[0;34m\u001b[0m\u001b[0m\n\u001b[0m\u001b[1;32m      3\u001b[0m \u001b[0mprint\u001b[0m\u001b[0;34m(\u001b[0m\u001b[0mx\u001b[0m\u001b[0;34m,\u001b[0m \u001b[0my\u001b[0m\u001b[0;34m)\u001b[0m\u001b[0;34m\u001b[0m\u001b[0;34m\u001b[0m\u001b[0m\n",
      "\u001b[0;31mAttributeError\u001b[0m: 'tuple' object has no attribute 'pop'"
     ]
    }
   ],
   "source": [
    "y = [1, 2, 3, 4]\n",
    "x = y.pop()\n",
    "print(x, y)"
   ]
  },
  {
   "cell_type": "code",
   "execution_count": 88,
   "id": "cef98b0f",
   "metadata": {},
   "outputs": [],
   "source": [
    "x, y = (1,2)"
   ]
  },
  {
   "cell_type": "code",
   "execution_count": 89,
   "id": "e7ef2462",
   "metadata": {},
   "outputs": [
    {
     "data": {
      "text/plain": [
       "1"
      ]
     },
     "execution_count": 89,
     "metadata": {},
     "output_type": "execute_result"
    }
   ],
   "source": [
    "x"
   ]
  },
  {
   "cell_type": "code",
   "execution_count": 90,
   "id": "b41720aa",
   "metadata": {},
   "outputs": [
    {
     "data": {
      "text/plain": [
       "2"
      ]
     },
     "execution_count": 90,
     "metadata": {},
     "output_type": "execute_result"
    }
   ],
   "source": [
    "y"
   ]
  },
  {
   "cell_type": "code",
   "execution_count": null,
   "id": "c5628e24",
   "metadata": {},
   "outputs": [],
   "source": []
  }
 ],
 "metadata": {
  "kernelspec": {
   "display_name": "Python 3 (ipykernel)",
   "language": "python",
   "name": "python3"
  },
  "language_info": {
   "codemirror_mode": {
    "name": "ipython",
    "version": 3
   },
   "file_extension": ".py",
   "mimetype": "text/x-python",
   "name": "python",
   "nbconvert_exporter": "python",
   "pygments_lexer": "ipython3",
   "version": "3.9.7"
  }
 },
 "nbformat": 4,
 "nbformat_minor": 5
}
