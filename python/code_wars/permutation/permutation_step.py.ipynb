{
 "cells": [
  {
   "cell_type": "code",
   "execution_count": 2,
   "id": "d2b916a9",
   "metadata": {},
   "outputs": [
    {
     "name": "stdout",
     "output_type": "stream",
     "text": [
      "['1', '2', '3', '4', '5']\n"
     ]
    }
   ],
   "source": [
    "num = []\n",
    "num[:] = '12345'\n",
    "\n",
    "print(num)"
   ]
  },
  {
   "cell_type": "code",
   "execution_count": 1,
   "id": "1b628fa5",
   "metadata": {},
   "outputs": [],
   "source": [
    "def swap(a, b, array):\n",
    "    array[b], array[a]\n",
    "    array[b], array[a] = array[a], array[b]\n",
    "\n",
    "    return int(''.join(array))\n",
    "\n",
    "\n",
    "def permutation_step(num):\n",
    "    res = []\n",
    "    res[:] = str(num)\n",
    "    combined = []\n",
    "\n",
    "    for i in range(len(res)):\n",
    "        local_subarray = res\n",
    "        [combined.append(item) for j in range(len(res) - 1) if (item := swap(j+1, j, local_subarray)) > num]\n",
    "\n",
    "    return min(combined)"
   ]
  },
  {
   "cell_type": "code",
   "execution_count": 2,
   "id": "ff70e2aa",
   "metadata": {},
   "outputs": [
    {
     "data": {
      "text/plain": [
       "388912"
      ]
     },
     "execution_count": 2,
     "metadata": {},
     "output_type": "execute_result"
    }
   ],
   "source": [
    "permutation_step(283891)"
   ]
  }
 ],
 "metadata": {
  "interpreter": {
   "hash": "aee8b7b246df8f9039afb4144a1f6fd8d2ca17a180786b69acc140d282b71a49"
  },
  "kernelspec": {
   "display_name": "Python 3.9.7 64-bit",
   "name": "python3"
  },
  "language_info": {
   "codemirror_mode": {
    "name": "ipython",
    "version": 3
   },
   "file_extension": ".py",
   "mimetype": "text/x-python",
   "name": "python",
   "nbconvert_exporter": "python",
   "pygments_lexer": "ipython3",
   "version": "3.9.7"
  }
 },
 "nbformat": 4,
 "nbformat_minor": 5
}
