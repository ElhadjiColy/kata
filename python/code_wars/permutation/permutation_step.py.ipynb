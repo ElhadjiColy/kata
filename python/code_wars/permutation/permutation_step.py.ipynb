{
 "cells": [
  {
   "cell_type": "code",
   "execution_count": 2,
   "id": "d2b916a9",
   "metadata": {},
   "outputs": [
    {
     "name": "stdout",
     "output_type": "stream",
     "text": [
      "['1', '2', '3', '4', '5']\n"
     ]
    }
   ],
   "source": [
    "num = []\n",
    "num[:] = '12345'\n",
    "\n",
    "print(num)"
   ]
  },
  {
   "cell_type": "code",
   "execution_count": 44,
   "id": "1b628fa5",
   "metadata": {},
   "outputs": [],
   "source": [
    "def swap(a, b, array):\n",
    "    array[b], array[a] = (array[b], array[a])[::-1]\n",
    "\n",
    "    return int(''.join(array))\n",
    "\n",
    "\n",
    "def permutation_step(num):\n",
    "    res = []\n",
    "    res[:] = str(num)\n",
    "    combined = []\n",
    "\n",
    "    for i in range(len(res)):\n",
    "        local_subarray = res\n",
    "        [combined.append(item) for j in range(len(res) - 1) if (item := swap(j+1, j, local_subarray)) > num]\n",
    "\n",
    "    return min(combined)"
   ]
  },
  {
   "cell_type": "code",
   "execution_count": 45,
   "id": "ff70e2aa",
   "metadata": {},
   "outputs": [
    {
     "data": {
      "text/plain": [
       "388912"
      ]
     },
     "execution_count": 45,
     "metadata": {},
     "output_type": "execute_result"
    }
   ],
   "source": [
    "permutation_step(283891)"
   ]
  },
  {
   "cell_type": "code",
   "execution_count": 26,
   "id": "eba66623",
   "metadata": {},
   "outputs": [
    {
     "data": {
      "text/plain": [
       "(2, 3)"
      ]
     },
     "execution_count": 26,
     "metadata": {},
     "output_type": "execute_result"
    }
   ],
   "source": [
    "a = ['a', 'b', 'c']\n",
    "a[len(a):] = ['d', 'e']\n",
    "b = (1, 2, 3)\n",
    "x = b[1:]\n",
    "a\n",
    "x"
   ]
  },
  {
   "cell_type": "code",
   "execution_count": 39,
   "id": "c43e56f0",
   "metadata": {},
   "outputs": [
    {
     "name": "stdout",
     "output_type": "stream",
     "text": [
      "b is equal to ([1, 2, 3, 4, 5, 6, 7, 8],)\n"
     ]
    },
    {
     "data": {
      "text/plain": [
       "[1, 2, 3, 4, 5, 6, 7, 8]"
      ]
     },
     "execution_count": 39,
     "metadata": {},
     "output_type": "execute_result"
    }
   ],
   "source": [
    "a = [1, 2, 7, 8]\n",
    "a[2:2] = [3, 4, 5, 6]\n",
    "\n",
    "b = (a,)\n",
    "print(f'b is equal to {b}')\n",
    "a"
   ]
  },
  {
   "cell_type": "code",
   "execution_count": 41,
   "id": "ae213b56",
   "metadata": {},
   "outputs": [
    {
     "data": {
      "text/plain": [
       "-5"
      ]
     },
     "execution_count": 41,
     "metadata": {},
     "output_type": "execute_result"
    }
   ],
   "source": [
    "a, b, c = (1, 2, 3, 4, 5, 6, 7, 8, 9)[1::3]\n",
    "\n",
    "x = 5\n",
    "y = -5\n",
    "x, y = (x, y)[::-1]\n",
    "x\n",
    "# b"
   ]
  },
  {
   "cell_type": "code",
   "execution_count": null,
   "id": "15584f60",
   "metadata": {},
   "outputs": [],
   "source": []
  }
 ],
 "metadata": {
  "interpreter": {
   "hash": "aee8b7b246df8f9039afb4144a1f6fd8d2ca17a180786b69acc140d282b71a49"
  },
  "kernelspec": {
   "display_name": "Python 3.9.7 64-bit",
   "name": "python3"
  },
  "language_info": {
   "codemirror_mode": {
    "name": "ipython",
    "version": 3
   },
   "file_extension": ".py",
   "mimetype": "text/x-python",
   "name": "python",
   "nbconvert_exporter": "python",
   "pygments_lexer": "ipython3",
   "version": "3.9.7"
  }
 },
 "nbformat": 4,
 "nbformat_minor": 5
}
