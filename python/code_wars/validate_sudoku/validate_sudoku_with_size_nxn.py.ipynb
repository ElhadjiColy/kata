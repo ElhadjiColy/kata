{
 "cells": [
  {
   "cell_type": "code",
   "execution_count": 2,
   "metadata": {},
   "outputs": [
    {
     "data": {
      "text/plain": [
       "(5, 3, 2, 1)"
      ]
     },
     "execution_count": 2,
     "metadata": {},
     "output_type": "execute_result"
    }
   ],
   "source": [
    "a = [1, 2, 3, 5]\n",
    "b = tuple(a)\n",
    "b[::-1]"
   ]
  },
  {
   "cell_type": "code",
   "execution_count": 8,
   "metadata": {},
   "outputs": [
    {
     "name": "stdout",
     "output_type": "stream",
     "text": [
      "my name is ['last_name']\n"
     ]
    }
   ],
   "source": [
    "obj = {\"first_name\": 'elhadji', \"last_name\": 'coly'}\n",
    "first_name, *remaining = obj\n",
    "print(f'my name is {remaining}')\n",
    "# first_name"
   ]
  },
  {
   "cell_type": "code",
   "execution_count": 37,
   "metadata": {},
   "outputs": [],
   "source": [
    "def build_columns_arrays(arrays):\n",
    "    return list(zip(*arrays))\n"
   ]
  },
  {
   "cell_type": "code",
   "execution_count": 40,
   "metadata": {},
   "outputs": [
    {
     "data": {
      "text/plain": [
       "[(7, 5, 6, 9, 3, 4, 8, 2, 1),\n",
       " (8, 3, 1, 2, 5, 6, 7, 4, 9),\n",
       " (4, 9, 2, 8, 7, 1, 6, 3, 5),\n",
       " (1, 6, 4, 7, 8, 9, 3, 5, 2),\n",
       " (5, 7, 3, 1, 4, 2, 9, 6, 8),\n",
       " (9, 2, 8, 5, 6, 3, 4, 1, 7),\n",
       " (3, 8, 7, 4, 1, 5, 2, 9, 6),\n",
       " (2, 4, 5, 6, 9, 8, 1, 7, 3),\n",
       " (6, 1, 9, 3, 2, 7, 5, 8, 4)]"
      ]
     },
     "execution_count": 40,
     "metadata": {},
     "output_type": "execute_result"
    }
   ],
   "source": [
    "array = [\n",
    "    [7,8,4,  1,5,9,  3,2,6],\n",
    "    [5,3,9,  6,7,2,  8,4,1],\n",
    "    [6,1,2,  4,3,8,  7,5,9],\n",
    "    \n",
    "    [9,2,8,  7,1,5,  4,6,3],\n",
    "    [3,5,7,  8,4,6,  1,9,2],\n",
    "    [4,6,1,  9,2,3,  5,8,7],\n",
    "    \n",
    "    [8,7,6,  3,9,4,  2,1,5],\n",
    "    [2,4,3,  5,6,1,  9,7,8],\n",
    "    [1,9,5,  2,8,7,  6,3,4]\n",
    "]\n",
    "build_columns_arrays(array)"
   ]
  },
  {
   "cell_type": "code",
   "execution_count": 88,
   "metadata": {},
   "outputs": [],
   "source": [
    "def has_no_duplicates(param):\n",
    "    return isinstance(param, (list, tuple)) and all(map(lambda x: ((len(set(x)) == len(param)) and all([isinstance(item, int) for item in x])), param))"
   ]
  },
  {
   "cell_type": "code",
   "execution_count": 90,
   "metadata": {},
   "outputs": [
    {
     "data": {
      "text/plain": [
       "True"
      ]
     },
     "execution_count": 90,
     "metadata": {},
     "output_type": "execute_result"
    }
   ],
   "source": [
    "array = [\n",
    "    [7,8,4,  1,5,9,  3,2,6],\n",
    "    [5,3,9,  6,7,2,  8,4,1],\n",
    "    [6,1,2,  4,3,8,  7,5,9],\n",
    "    \n",
    "    [9,2,8,  7,1,5,  4,6,3],\n",
    "    [3,5,7,  8,4,6,  1,9,2],\n",
    "    [4,6,1,  9,2,3,  5,8,7],\n",
    "    \n",
    "    [8,7,6,  3,9,4,  2,1,5],\n",
    "    [2,4,3,  5,6,1,  9,7,8],\n",
    "    [1,9,5,  2,8,7,  6,3,4]\n",
    "]\n",
    "has_no_duplicates(array)"
   ]
  },
  {
   "cell_type": "code",
   "execution_count": 115,
   "metadata": {},
   "outputs": [],
   "source": [
    "def build_subsquares_arrays(data):\n",
    "    local_subarray, result = ([], [])\n",
    "    count, times, initial_slice_count, length = (0, 1, 0, int(len(data) ** 0.5))\n",
    "\n",
    "    while times <= length:\n",
    "        # print(f'times: {times}')\n",
    "        for i in range(len(data)):\n",
    "            count += 1\n",
    "            sliced_array = tuple(data[i])[initial_slice_count:initial_slice_count+length]\n",
    "            local_subarray.extend(sliced_array)\n",
    "\n",
    "            # print(f'sliced_array: {sliced_array}, local_subarray: {local_subarray}, result: {result}')\n",
    "\n",
    "            if count == length:\n",
    "                result.append(local_subarray)\n",
    "                local_subarray = []\n",
    "                count = 0\n",
    "\n",
    "        times += 1\n",
    "        initial_slice_count += length\n",
    "\n",
    "    return result"
   ]
  },
  {
   "cell_type": "code",
   "execution_count": 116,
   "metadata": {},
   "outputs": [
    {
     "data": {
      "text/plain": [
       "[[7, 8, 4, 5, 3, 9, 6, 1, 2],\n",
       " [9, 2, 8, 3, 5, 7, 4, 6, 1],\n",
       " [8, 7, 6, 2, 4, 3, 1, 9, 5],\n",
       " [1, 5, 9, 6, 7, 2, 4, 3, 8],\n",
       " [7, 1, 5, 8, 4, 6, 9, 2, 3],\n",
       " [3, 9, 4, 5, 6, 1, 2, 8, 7],\n",
       " [3, 2, 6, 8, 4, 1, 7, 5, 9],\n",
       " [4, 6, 3, 1, 9, 2, 5, 8, 7],\n",
       " [2, 1, 5, 9, 7, 8, 6, 3, 4]]"
      ]
     },
     "execution_count": 116,
     "metadata": {},
     "output_type": "execute_result"
    }
   ],
   "source": [
    "array = [\n",
    "    [7,8,4,  1,5,9,  3,2,6],\n",
    "    [5,3,9,  6,7,2,  8,4,1],\n",
    "    [6,1,2,  4,3,8,  7,5,9],\n",
    "    \n",
    "    [9,2,8,  7,1,5,  4,6,3],\n",
    "    [3,5,7,  8,4,6,  1,9,2],\n",
    "    [4,6,1,  9,2,3,  5,8,7],\n",
    "    \n",
    "    [8,7,6,  3,9,4,  2,1,5],\n",
    "    [2,4,3,  5,6,1,  9,7,8],\n",
    "    [1,9,5,  2,8,7,  6,3,4]\n",
    "]\n",
    "build_subsquares_arrays(array)"
   ]
  },
  {
   "cell_type": "code",
   "execution_count": 52,
   "metadata": {},
   "outputs": [
    {
     "name": "stdout",
     "output_type": "stream",
     "text": [
      "True\n"
     ]
    },
    {
     "data": {
      "text/plain": [
       "{4}"
      ]
     },
     "execution_count": 52,
     "metadata": {},
     "output_type": "execute_result"
    }
   ],
   "source": [
    "numbers = [1, 2, 3, 4]\n",
    "print(f'{isinstance(numbers, (tuple, list))}')\n",
    "set(numbers).difference(set([1, 2, 3]))"
   ]
  },
  {
   "cell_type": "code",
   "execution_count": 78,
   "metadata": {},
   "outputs": [
    {
     "name": "stdout",
     "output_type": "stream",
     "text": [
      "Local current time : time.struct_time(tm_year=2022, tm_mon=4, tm_mday=26, tm_hour=13, tm_min=54, tm_sec=26, tm_wday=1, tm_yday=116, tm_isdst=0)\n"
     ]
    }
   ],
   "source": [
    "import time;\n",
    "localtime = time.localtime(time.time())\n",
    "print(f\"Local current time : {localtime}\")"
   ]
  },
  {
   "cell_type": "code",
   "execution_count": 152,
   "metadata": {},
   "outputs": [],
   "source": [
    "class ValidateSudokuWithSizeNxN:\n",
    "    \n",
    "    def __init__(self, data):\n",
    "        self.data = data\n",
    "\n",
    "    def __del__(self):\n",
    "        print('destructor called.')\n",
    "\n",
    "    @staticmethod\n",
    "    def has_no_duplicates(param):\n",
    "        return isinstance(param, (list, tuple)) and all(map(lambda x: ((len(set(x)) == len(param)) and all([isinstance(item, int) for item in x])), param))\n",
    "\n",
    "    # @property\n",
    "    def __row_case(self):\n",
    "        print('row case')\n",
    "        return self.has_no_duplicates(self.data)\n",
    "\n",
    "    # @property\n",
    "    def __column_case(self):\n",
    "        return self.has_no_duplicates(self.__build_columns_arrays())\n",
    "\n",
    "    # @property\n",
    "    def __subsquare_case(self):\n",
    "        return self.has_no_duplicates(self.__build_subsquares_arrays())\n",
    "\n",
    "    def __build_columns_arrays(self):\n",
    "        return list(zip(*self.data))\n",
    "    \n",
    "    def __build_subsquares_arrays(self):\n",
    "        local_subarray, result = ([], [])\n",
    "        count, times, initial_slice_count, length = (0, 1, 0, int(len(self.data) ** 0.5))\n",
    "\n",
    "        while times <= length:\n",
    "            for i in range(len(self.data)):\n",
    "                count += 1\n",
    "                sliced_array = tuple(self.data[i])[initial_slice_count:initial_slice_count+length]\n",
    "                local_subarray.extend(sliced_array)\n",
    "\n",
    "                if count == length:\n",
    "                    result.append(local_subarray)\n",
    "                    local_subarray = []\n",
    "                    count = 0\n",
    "\n",
    "            times += 1\n",
    "            initial_slice_count += length\n",
    "\n",
    "        return result\n",
    "\n",
    "    def validate(self):\n",
    "        return False if not isinstance(int(len(self.data) ** 0.5), int) else (self.__row_case() and self.__column_case() and self.__subsquare_case())\n",
    "\n",
    "\n",
    "# a = Sudoku.class_method()"
   ]
  },
  {
   "cell_type": "code",
   "execution_count": 153,
   "metadata": {},
   "outputs": [
    {
     "name": "stdout",
     "output_type": "stream",
     "text": [
      "row case\n",
      "destructor called.\n"
     ]
    },
    {
     "data": {
      "text/plain": [
       "True"
      ]
     },
     "execution_count": 153,
     "metadata": {},
     "output_type": "execute_result"
    }
   ],
   "source": [
    "array = [\n",
    "    [7,8,4,  1,5,9,  3,2,6],\n",
    "    [5,3,9,  6,7,2,  8,4,1],\n",
    "    [6,1,2,  4,3,8,  7,5,9],\n",
    "    \n",
    "    [9,2,8,  7,1,5,  4,6,3],\n",
    "    [3,5,7,  8,4,6,  1,9,2],\n",
    "    [4,6,1,  9,2,3,  5,8,7],\n",
    "    \n",
    "    [8,7,6,  3,9,4,  2,1,5],\n",
    "    [2,4,3,  5,6,1,  9,7,8],\n",
    "    [1,9,5,  2,8,7,  6,3,4]\n",
    "]\n",
    "sudoku = ValidateSudokuWithSizeNxN(array).validate()\n",
    "# print(f'{array}')\n",
    "sudoku"
   ]
  },
  {
   "cell_type": "code",
   "execution_count": 131,
   "metadata": {},
   "outputs": [],
   "source": [
    "def validate(num):\n",
    "    return False if not isinstance(num, int) else True"
   ]
  },
  {
   "cell_type": "code",
   "execution_count": 132,
   "metadata": {},
   "outputs": [
    {
     "data": {
      "text/plain": [
       "True"
      ]
     },
     "execution_count": 132,
     "metadata": {},
     "output_type": "execute_result"
    }
   ],
   "source": [
    "validate(2)"
   ]
  },
  {
   "cell_type": "code",
   "execution_count": null,
   "metadata": {},
   "outputs": [],
   "source": [
    "class MyClass:\n",
    "    def __init__(self):\n",
    "        self.num = num\n",
    "\n",
    "    def __func_1(self):\n",
    "        return True\n",
    "\n",
    "    def __func_2(self):\n",
    "        return True\n",
    "\n",
    "    def __func_3(self):\n",
    "        return True\n",
    "\n",
    "    def validate():\n",
    "        return False if not isinstance(num ** 0.5)"
   ]
  }
 ],
 "metadata": {
  "interpreter": {
   "hash": "aee8b7b246df8f9039afb4144a1f6fd8d2ca17a180786b69acc140d282b71a49"
  },
  "kernelspec": {
   "display_name": "Python 3.9.7 64-bit",
   "name": "python3"
  },
  "language_info": {
   "codemirror_mode": {
    "name": "ipython",
    "version": 3
   },
   "file_extension": ".py",
   "mimetype": "text/x-python",
   "name": "python",
   "nbconvert_exporter": "python",
   "pygments_lexer": "ipython3",
   "version": "3.9.7"
  },
  "orig_nbformat": 4
 },
 "nbformat": 4,
 "nbformat_minor": 2
}
